{
 "cells": [
  {
   "cell_type": "markdown",
   "metadata": {
    "collapsed": true
   },
   "source": [
    "# Image Classification\n",
    "In this project, you'll classify images from the [CIFAR-10 dataset](https://www.cs.toronto.edu/~kriz/cifar.html).  The dataset consists of airplanes, dogs, cats, and other objects. You'll preprocess the images, then train a convolutional neural network on all the samples. The images need to be normalized and the labels need to be one-hot encoded.  You'll get to apply what you learned and build a convolutional, max pooling, dropout, and fully connected layers.  At the end, you'll get to see your neural network's predictions on the sample images.\n",
    "## Get the Data\n",
    "Run the following cell to download the [CIFAR-10 dataset for python](https://www.cs.toronto.edu/~kriz/cifar-10-python.tar.gz)."
   ]
  },
  {
   "cell_type": "code",
   "execution_count": 1,
   "metadata": {
    "collapsed": false
   },
   "outputs": [
    {
     "name": "stdout",
     "output_type": "stream",
     "text": [
      "All files found!\n"
     ]
    }
   ],
   "source": [
    "#!pip install tqdm\n",
    "\"\"\"\n",
    "DON'T MODIFY ANYTHING IN THIS CELL THAT IS BELOW THIS LINE\n",
    "\"\"\"\n",
    "from urllib.request import urlretrieve\n",
    "from os.path import isfile, isdir\n",
    "from tqdm import tqdm\n",
    "import problem_unittests as tests\n",
    "import tarfile\n",
    "\n",
    "cifar10_dataset_folder_path = 'cifar-10-batches-py'\n",
    "\n",
    "# Use Floyd's cifar-10 dataset if present\n",
    "floyd_cifar10_location = '/input/cifar-10/python.tar.gz'\n",
    "if isfile(floyd_cifar10_location):\n",
    "    tar_gz_path = floyd_cifar10_location\n",
    "else:\n",
    "    tar_gz_path = 'cifar-10-python.tar.gz'\n",
    "\n",
    "class DLProgress(tqdm):\n",
    "    last_block = 0\n",
    "\n",
    "    def hook(self, block_num=1, block_size=1, total_size=None):\n",
    "        self.total = total_size\n",
    "        self.update((block_num - self.last_block) * block_size)\n",
    "        self.last_block = block_num\n",
    "\n",
    "if not isfile(tar_gz_path):\n",
    "    with DLProgress(unit='B', unit_scale=True, miniters=1, desc='CIFAR-10 Dataset') as pbar:\n",
    "        urlretrieve(\n",
    "            'https://www.cs.toronto.edu/~kriz/cifar-10-python.tar.gz',\n",
    "            tar_gz_path,\n",
    "            pbar.hook)\n",
    "\n",
    "if not isdir(cifar10_dataset_folder_path):\n",
    "    with tarfile.open(tar_gz_path) as tar:\n",
    "        tar.extractall()\n",
    "        tar.close()\n",
    "\n",
    "\n",
    "tests.test_folder_path(cifar10_dataset_folder_path)"
   ]
  },
  {
   "cell_type": "markdown",
   "metadata": {},
   "source": [
    "## Explore the Data\n",
    "The dataset is broken into batches to prevent your machine from running out of memory.  The CIFAR-10 dataset consists of 5 batches, named `data_batch_1`, `data_batch_2`, etc.. Each batch contains the labels and images that are one of the following:\n",
    "* airplane\n",
    "* automobile\n",
    "* bird\n",
    "* cat\n",
    "* deer\n",
    "* dog\n",
    "* frog\n",
    "* horse\n",
    "* ship\n",
    "* truck\n",
    "\n",
    "Understanding a dataset is part of making predictions on the data.  Play around with the code cell below by changing the `batch_id` and `sample_id`. The `batch_id` is the id for a batch (1-5). The `sample_id` is the id for a image and label pair in the batch.\n",
    "\n",
    "Ask yourself \"What are all possible labels?\", \"What is the range of values for the image data?\", \"Are the labels in order or random?\".  Answers to questions like these will help you preprocess the data and end up with better predictions."
   ]
  },
  {
   "cell_type": "code",
   "execution_count": 2,
   "metadata": {
    "collapsed": false
   },
   "outputs": [
    {
     "name": "stdout",
     "output_type": "stream",
     "text": [
      "\n",
      "Stats of batch 3:\n",
      "Samples: 10000\n",
      "Label Counts: {0: 994, 1: 1042, 2: 965, 3: 997, 4: 990, 5: 1029, 6: 978, 7: 1015, 8: 961, 9: 1029}\n",
      "First 20 Labels: [8, 5, 0, 6, 9, 2, 8, 3, 6, 2, 7, 4, 6, 9, 0, 0, 7, 3, 7, 2]\n",
      "\n",
      "Example of Image 2000:\n",
      "Image - Min Value: 5 Max Value: 251\n",
      "Image - Shape: (32, 32, 3)\n",
      "Label - Label Id: 8 Name: ship\n"
     ]
    },
    {
     "data": {
      "image/png": "[encoded data removed]",
      "text/plain": [
       "<matplotlib.figure.Figure at 0xd80ea4def0>"
      ]
     },
     "metadata": {
      "image/png": {
       "height": 250,
       "width": 253
      }
     },
     "output_type": "display_data"
    }
   ],
   "source": [
    "%matplotlib inline\n",
    "%config InlineBackend.figure_format = 'retina'\n",
    "\n",
    "import helper\n",
    "import numpy as np\n",
    "\n",
    "# Explore the dataset\n",
    "batch_id = 3\n",
    "sample_id = 2000 #5\n",
    "helper.display_stats(cifar10_dataset_folder_path, batch_id, sample_id)"
   ]
  },
  {
   "cell_type": "markdown",
   "metadata": {},
   "source": [
    "## Implement Preprocess Functions\n",
    "### Normalize\n",
    "In the cell below, implement the `normalize` function to take in image data, `x`, and return it as a normalized Numpy array. The values should be in the range of 0 to 1, inclusive.  The return object should be the same shape as `x`."
   ]
  },
  {
   "cell_type": "code",
   "execution_count": 3,
   "metadata": {
    "collapsed": false
   },
   "outputs": [
    {
     "name": "stdout",
     "output_type": "stream",
     "text": [
      "Tests Passed\n"
     ]
    }
   ],
   "source": [
    "def normalize(x):\n",
    "    \"\"\"\n",
    "    Normalize a list of sample image data in the range of 0 to 1\n",
    "    : x: List of image data.  The image shape is (32, 32, 3)\n",
    "    : return: Numpy array of normalize data\n",
    "    \"\"\"\n",
    "    # TODO: Implement Function\n",
    "    max_vl = np.max(x)\n",
    "    min_vl = np.min(x)\n",
    "    normlz = (x - min_vl)/(max_vl - min_vl)\n",
    "    return normlz\n",
    "\n",
    "\n",
    "\"\"\"\n",
    "DON'T MODIFY ANYTHING IN THIS CELL THAT IS BELOW THIS LINE\n",
    "\"\"\"\n",
    "tests.test_normalize(normalize)"
   ]
  },
  {
   "cell_type": "markdown",
   "metadata": {},
   "source": [
    "### One-hot encode\n",
    "Just like the previous code cell, you'll be implementing a function for preprocessing.  This time, you'll implement the `one_hot_encode` function. The input, `x`, are a list of labels.  Implement the function to return the list of labels as One-Hot encoded Numpy array.  The possible values for labels are 0 to 9. The one-hot encoding function should return the same encoding for each value between each call to `one_hot_encode`.  Make sure to save the map of encodings outside the function.\n",
    "\n",
    "Hint: Don't reinvent the wheel."
   ]
  },
  {
   "cell_type": "code",
   "execution_count": 25,
   "metadata": {
    "collapsed": false
   },
   "outputs": [
    {
     "name": "stdout",
     "output_type": "stream",
     "text": [
      "Tests Passed\n"
     ]
    }
   ],
   "source": [
    "def one_hot_encode(x):\n",
    "    \"\"\"\n",
    "    One hot encode a list of sample labels. Return a one-hot encoded vector for each label.\n",
    "    : x: List of sample Labels\n",
    "    : return: Numpy array of one-hot encoded labels\n",
    "    \"\"\"\n",
    "    # TODO: Implement Function\n",
    "    setx = set(x)\n",
    "    setx_to_int = {c: i for i, c in enumerate(setx)}\n",
    "    #int_to_setx = dict(enumerate(setx))\n",
    "    #encoded = np.array([setx_to_int[c] for c in x], dtype=np.int32)\n",
    "    encoded = np.array([[ 0 for i in range(10)] for c in x], dtype=np.int32)\n",
    "    id = 0\n",
    "    for c in x:\n",
    "        encoded[id, c] = 1\n",
    "        id += 1\n",
    "    \n",
    "    #print(x)\n",
    "    #lower_x = [c.lower() for c in x]\n",
    "    #clsenc = { 'airplane':0, 'automobile':1, 'bird':2, 'cat':3, 'deer':4, 'dog':5, 'frog':6, 'horse':7, 'ship':8, 'truck':9 }\n",
    "    \n",
    "    #test_shape = np.random.choice(range(1000))\n",
    "    #test_numbers = np.random.choice(range(10), x.shape)\n",
    "    #print(test_numbers.shape)\n",
    "    #binx = [bin(c) for c in x]    \n",
    "    #encoded = np.array([c[2:] for c in binx], dtype=np.int32) #np.array([c[2:] for c in binx], dtype=np.int32)\n",
    "    #print(encoded)#.shape)\n",
    "    #--with tf.Session() as sess:\n",
    "    #with sess.as_default():\n",
    "    #   enc = tf.one_hot(x, 9).eval()\n",
    "    return encoded\n",
    "\n",
    "\n",
    "\"\"\"\n",
    "DON'T MODIFY ANYTHING IN THIS CELL THAT IS BELOW THIS LINE\n",
    "\"\"\"\n",
    "tests.test_one_hot_encode(one_hot_encode)"
   ]
  },
  {
   "cell_type": "markdown",
   "metadata": {},
   "source": [
    "### Randomize Data\n",
    "As you saw from exploring the data above, the order of the samples are randomized.  It doesn't hurt to randomize it again, but you don't need to for this dataset."
   ]
  },
  {
   "cell_type": "markdown",
   "metadata": {},
   "source": [
    "## Preprocess all the data and save it\n",
    "Running the code cell below will preprocess all the CIFAR-10 data and save it to file. The code below also uses 10% of the training data for validation."
   ]
  },
  {
   "cell_type": "code",
   "execution_count": 26,
   "metadata": {
    "collapsed": true
   },
   "outputs": [],
   "source": [
    "\"\"\"\n",
    "DON'T MODIFY ANYTHING IN THIS CELL\n",
    "\"\"\"\n",
    "# Preprocess Training, Validation, and Testing Data\n",
    "helper.preprocess_and_save_data(cifar10_dataset_folder_path, normalize, one_hot_encode)"
   ]
  },
  {
   "cell_type": "markdown",
   "metadata": {},
   "source": [
    "# Check Point\n",
    "This is your first checkpoint.  If you ever decide to come back to this notebook or have to restart the notebook, you can start from here.  The preprocessed data has been saved to disk."
   ]
  },
  {
   "cell_type": "code",
   "execution_count": 2,
   "metadata": {
    "collapsed": true
   },
   "outputs": [],
   "source": [
    "\"\"\"\n",
    "DON'T MODIFY ANYTHING IN THIS CELL\n",
    "\"\"\"\n",
    "import pickle\n",
    "import problem_unittests as tests\n",
    "import helper\n",
    "\n",
    "# Load the Preprocessed Validation data\n",
    "valid_features, valid_labels = pickle.load(open('preprocess_validation.p', mode='rb'))"
   ]
  },
  {
   "cell_type": "markdown",
   "metadata": {},
   "source": [
    "## Build the network\n",
    "For the neural network, you'll build each layer into a function.  Most of the code you've seen has been outside of functions. To test your code more thoroughly, we require that you put each layer in a function.  This allows us to give you better feedback and test for simple mistakes using our unittests before you submit your project.\n",
    "\n",
    ">**Note:** If you're finding it hard to dedicate enough time for this course each week, we've provided a small shortcut to this part of the project. In the next couple of problems, you'll have the option to use classes from the [TensorFlow Layers](https://www.tensorflow.org/api_docs/python/tf/layers) or [TensorFlow Layers (contrib)](https://www.tensorflow.org/api_guides/python/contrib.layers) packages to build each layer, except the layers you build in the \"Convolutional and Max Pooling Layer\" section.  TF Layers is similar to Keras's and TFLearn's abstraction to layers, so it's easy to pickup.\n",
    "\n",
    ">However, if you would like to get the most out of this course, try to solve all the problems _without_ using anything from the TF Layers packages. You **can** still use classes from other packages that happen to have the same name as ones you find in TF Layers! For example, instead of using the TF Layers version of the `conv2d` class, [tf.layers.conv2d](https://www.tensorflow.org/api_docs/python/tf/layers/conv2d), you would want to use the TF Neural Network version of `conv2d`, [tf.nn.conv2d](https://www.tensorflow.org/api_docs/python/tf/nn/conv2d). \n",
    "\n",
    "Let's begin!\n",
    "\n",
    "### Input\n",
    "The neural network needs to read the image data, one-hot encoded labels, and dropout keep probability. Implement the following functions\n",
    "* Implement `neural_net_image_input`\n",
    " * Return a [TF Placeholder](https://www.tensorflow.org/api_docs/python/tf/placeholder)\n",
    " * Set the shape using `image_shape` with batch size set to `None`.\n",
    " * Name the TensorFlow placeholder \"x\" using the TensorFlow `name` parameter in the [TF Placeholder](https://www.tensorflow.org/api_docs/python/tf/placeholder).\n",
    "* Implement `neural_net_label_input`\n",
    " * Return a [TF Placeholder](https://www.tensorflow.org/api_docs/python/tf/placeholder)\n",
    " * Set the shape using `n_classes` with batch size set to `None`.\n",
    " * Name the TensorFlow placeholder \"y\" using the TensorFlow `name` parameter in the [TF Placeholder](https://www.tensorflow.org/api_docs/python/tf/placeholder).\n",
    "* Implement `neural_net_keep_prob_input`\n",
    " * Return a [TF Placeholder](https://www.tensorflow.org/api_docs/python/tf/placeholder) for dropout keep probability.\n",
    " * Name the TensorFlow placeholder \"keep_prob\" using the TensorFlow `name` parameter in the [TF Placeholder](https://www.tensorflow.org/api_docs/python/tf/placeholder).\n",
    "\n",
    "These names will be used at the end of the project to load your saved model.\n",
    "\n",
    "Note: `None` for shapes in TensorFlow allow for a dynamic size."
   ]
  },
  {
   "cell_type": "code",
   "execution_count": 3,
   "metadata": {
    "collapsed": false
   },
   "outputs": [
    {
     "name": "stdout",
     "output_type": "stream",
     "text": [
      "Image Input Tests Passed.\n",
      "Label Input Tests Passed.\n",
      "Keep Prob Tests Passed.\n"
     ]
    }
   ],
   "source": [
    "import tensorflow as tf\n",
    "\n",
    "def neural_net_image_input(image_shape):\n",
    "    \"\"\"\n",
    "    Return a Tensor for a batch of image input\n",
    "    : image_shape: Shape of the images\n",
    "    : return: Tensor for image input.\n",
    "    \"\"\"\n",
    "    # TODO: Implement Function\n",
    "    tensor = tf.placeholder(tf.float32, shape = [None, image_shape[0], image_shape[1], image_shape[2]], name='x')\n",
    "    return tensor\n",
    "\n",
    "\n",
    "def neural_net_label_input(n_classes):\n",
    "    \"\"\"\n",
    "    Return a Tensor for a batch of label input\n",
    "    : n_classes: Number of classes\n",
    "    : return: Tensor for label input.\n",
    "    \"\"\"\n",
    "    # TODO: Implement Function\n",
    "    tensor = tf.placeholder(tf.float32, shape = [None, n_classes], name='y')\n",
    "    return tensor\n",
    "\n",
    "\n",
    "def neural_net_keep_prob_input():\n",
    "    \"\"\"\n",
    "    Return a Tensor for keep probability\n",
    "    : return: Tensor for keep probability.\n",
    "    \"\"\"\n",
    "    # TODO: Implement Function\n",
    "    \n",
    "    return tf.placeholder(tf.float32, name='keep_prob')\n",
    "\n",
    "\n",
    "\"\"\"\n",
    "DON'T MODIFY ANYTHING IN THIS CELL THAT IS BELOW THIS LINE\n",
    "\"\"\"\n",
    "tf.reset_default_graph()\n",
    "tests.test_nn_image_inputs(neural_net_image_input)\n",
    "tests.test_nn_label_inputs(neural_net_label_input)\n",
    "tests.test_nn_keep_prob_inputs(neural_net_keep_prob_input)"
   ]
  },
  {
   "cell_type": "markdown",
   "metadata": {},
   "source": [
    "### Convolution and Max Pooling Layer\n",
    "Convolution layers have a lot of success with images. For this code cell, you should implement the function `conv2d_maxpool` to apply convolution then max pooling:\n",
    "* Create the weight and bias using `conv_ksize`, `conv_num_outputs` and the shape of `x_tensor`.\n",
    "* Apply a convolution to `x_tensor` using weight and `conv_strides`.\n",
    " * We recommend you use same padding, but you're welcome to use any padding.\n",
    "* Add bias\n",
    "* Add a nonlinear activation to the convolution.\n",
    "* Apply Max Pooling using `pool_ksize` and `pool_strides`.\n",
    " * We recommend you use same padding, but you're welcome to use any padding.\n",
    "\n",
    "**Note:** You **can't** use [TensorFlow Layers](https://www.tensorflow.org/api_docs/python/tf/layers) or [TensorFlow Layers (contrib)](https://www.tensorflow.org/api_guides/python/contrib.layers) for **this** layer, but you can still use TensorFlow's [Neural Network](https://www.tensorflow.org/api_docs/python/tf/nn) package. You may still use the shortcut option for all the **other** layers."
   ]
  },
  {
   "cell_type": "code",
   "execution_count": 43,
   "metadata": {
    "collapsed": false
   },
   "outputs": [
    {
     "name": "stdout",
     "output_type": "stream",
     "text": [
      "Tests Passed\n"
     ]
    }
   ],
   "source": [
    "def conv2d_maxpool(x_tensor, conv_num_outputs, conv_ksize, conv_strides, pool_ksize, pool_strides):\n",
    "    \"\"\"\n",
    "    Apply convolution then max pooling to x_tensor\n",
    "    :param x_tensor: TensorFlow Tensor\n",
    "    :param conv_num_outputs: Number of outputs for the convolutional layer\n",
    "    :param conv_ksize: kernal size 2-D Tuple for the convolutional layer\n",
    "    :param conv_strides: Stride 2-D Tuple for convolution\n",
    "    :param pool_ksize: kernal size 2-D Tuple for pool\n",
    "    :param pool_strides: Stride 2-D Tuple for pool\n",
    "    : return: A tensor that represents convolution and max pooling of x_tensor\n",
    "    \"\"\"\n",
    "    # TODO: Implement Function\n",
    "    #print(len(x_tensor.get_shape().as_list()))\n",
    "    #print(x_tensor.get_shape().as_list()[-1])\n",
    "    \n",
    "    #tf.get_variable_scope().reuse_variables()\n",
    "    \n",
    "    k = list(conv_ksize)\n",
    "    st = list(conv_strides)\n",
    "    in_channels = x_tensor.get_shape().as_list()[-1]\n",
    "    \n",
    "    # [filter_height, filter_width, in_channels, out_channels] - w (filter/kernel tensor)\n",
    "    weight = tf.Variable(tf.random_normal([k[0],k[1], in_channels, conv_num_outputs]), name=\"W\")\n",
    "    bias = tf.Variable(tf.random_normal([conv_num_outputs]), name=\"b\")\n",
    "    #weight = tf.get_variable(\"W\", initializer = tf.random_normal([k[0],k[1], in_channels, conv_num_outputs]))\n",
    "    #bias = tf.get_variable(\"b\", initializer = tf.random_normal([conv_num_outputs]))\n",
    "    \n",
    "    conv2d = tf.nn.relu(tf.nn.bias_add(tf.nn.conv2d(x_tensor, weight, strides = [1,st[0],st[1],1], padding='SAME'), bias))\n",
    "    \n",
    "    #pool_ksize and pool_strides\n",
    "    kp = list(pool_ksize)\n",
    "    stp = list(pool_strides)\n",
    "    max_pool = tf.nn.max_pool(conv2d, ksize = [1,kp[0],kp[1],1], strides = [1,stp[0],stp[1],1], padding='SAME')\n",
    "    #print(max_pool.get_shape().as_list())\n",
    "    \n",
    "    return max_pool \n",
    "\n",
    "\n",
    "\"\"\"\n",
    "DON'T MODIFY ANYTHING IN THIS CELL THAT IS BELOW THIS LINE\n",
    "\"\"\"\n",
    "tests.test_con_pool(conv2d_maxpool)"
   ]
  },
  {
   "cell_type": "markdown",
   "metadata": {},
   "source": [
    "### Flatten Layer\n",
    "Implement the `flatten` function to change the dimension of `x_tensor` from a 4-D tensor to a 2-D tensor.  The output should be the shape (*Batch Size*, *Flattened Image Size*). Shortcut option: you can use classes from the [TensorFlow Layers](https://www.tensorflow.org/api_docs/python/tf/layers) or [TensorFlow Layers (contrib)](https://www.tensorflow.org/api_guides/python/contrib.layers) packages for this layer. For more of a challenge, only use other TensorFlow packages."
   ]
  },
  {
   "cell_type": "code",
   "execution_count": 44,
   "metadata": {
    "collapsed": false
   },
   "outputs": [
    {
     "name": "stdout",
     "output_type": "stream",
     "text": [
      "Tests Passed\n"
     ]
    }
   ],
   "source": [
    "def flatten(x_tensor):\n",
    "    \"\"\"\n",
    "    Flatten x_tensor to (Batch Size, Flattened Image Size)\n",
    "    : x_tensor: A tensor of size (Batch Size, ...), where ... are the image dimensions.\n",
    "    : return: A tensor of size (Batch Size, Flattened Image Size).\n",
    "    \"\"\"\n",
    "    # TODO: Implement Function\n",
    "    #print(x_tensor.get_shape().as_list()[3])\n",
    "    tsl = x_tensor.get_shape().as_list()\n",
    "    id = 0\n",
    "    mlv = 1\n",
    "    for vl in tsl:\n",
    "        if id > 0:\n",
    "           mlv *= vl\n",
    "        else:\n",
    "            id += 1\n",
    "    #print([tsl[0], tsl[1]*tsl[2]*tsl[3]])\n",
    "    flat_x = tf.reshape(x_tensor, [-1, mlv])\n",
    "    #print(flat_x)\n",
    "    return flat_x\n",
    "\n",
    "\n",
    "\"\"\"\n",
    "DON'T MODIFY ANYTHING IN THIS CELL THAT IS BELOW THIS LINE\n",
    "\"\"\"\n",
    "tests.test_flatten(flatten)"
   ]
  },
  {
   "cell_type": "markdown",
   "metadata": {},
   "source": [
    "### Fully-Connected Layer\n",
    "Implement the `fully_conn` function to apply a fully connected layer to `x_tensor` with the shape (*Batch Size*, *num_outputs*). Shortcut option: you can use classes from the [TensorFlow Layers](https://www.tensorflow.org/api_docs/python/tf/layers) or [TensorFlow Layers (contrib)](https://www.tensorflow.org/api_guides/python/contrib.layers) packages for this layer. For more of a challenge, only use other TensorFlow packages."
   ]
  },
  {
   "cell_type": "code",
   "execution_count": 46,
   "metadata": {
    "collapsed": false
   },
   "outputs": [
    {
     "name": "stdout",
     "output_type": "stream",
     "text": [
      "Tests Passed\n"
     ]
    }
   ],
   "source": [
    "def fully_conn(x_tensor, num_outputs):\n",
    "    \"\"\"\n",
    "    Apply a fully connected layer to x_tensor using weight and bias\n",
    "    : x_tensor: A 2-D tensor where the first dimension is batch size.\n",
    "    : num_outputs: The number of output that the new tensor should be.\n",
    "    : return: A 2-D tensor where the second dimension is num_outputs.\n",
    "    \"\"\"\n",
    "    #in_size = x_tensor.get_shape().as_list()[-1]\n",
    "    # TODO: Implement Function\n",
    "    #seq_output = tf.concat(x_tensor, axis=1)\n",
    "    #dense1 = tf.reshape(seq_output, [-1, num_outputs])\n",
    "    \n",
    "    #dense1 = tf.reshape(x_tensor, [-1, num_outputs])\n",
    "    \n",
    "    dim_sz = x_tensor.shape[1].value\n",
    "    weights = tf.Variable(tf.truncated_normal([dim_sz, num_outputs], mean=0, stddev=0.1))\n",
    "    bias = tf.Variable(tf.zeros(num_outputs))\n",
    "    \n",
    "    dense = tf.nn.bias_add(tf.matmul(x_tensor, weights), bias)\n",
    "    dense = tf.nn.relu(dense)\n",
    "        \n",
    "    return dense\n",
    "\n",
    "\n",
    "\"\"\"\n",
    "DON'T MODIFY ANYTHING IN THIS CELL THAT IS BELOW THIS LINE\n",
    "\"\"\"\n",
    "tests.test_fully_conn(fully_conn)"
   ]
  },
  {
   "cell_type": "markdown",
   "metadata": {},
   "source": [
    "### Output Layer\n",
    "Implement the `output` function to apply a fully connected layer to `x_tensor` with the shape (*Batch Size*, *num_outputs*). Shortcut option: you can use classes from the [TensorFlow Layers](https://www.tensorflow.org/api_docs/python/tf/layers) or [TensorFlow Layers (contrib)](https://www.tensorflow.org/api_guides/python/contrib.layers) packages for this layer. For more of a challenge, only use other TensorFlow packages.\n",
    "\n",
    "**Note:** Activation, softmax, or cross entropy should **not** be applied to this."
   ]
  },
  {
   "cell_type": "code",
   "execution_count": 49,
   "metadata": {
    "collapsed": false
   },
   "outputs": [
    {
     "name": "stdout",
     "output_type": "stream",
     "text": [
      "Tests Passed\n"
     ]
    }
   ],
   "source": [
    "def output(x_tensor, num_outputs):\n",
    "    \"\"\"\n",
    "    Apply a output layer to x_tensor using weight and bias\n",
    "    : x_tensor: A 2-D tensor where the first dimension is batch size.\n",
    "    : num_outputs: The number of output that the new tensor should be.\n",
    "    : return: A 2-D tensor where the second dimension is num_outputs.\n",
    "    \"\"\"\n",
    "    # TODO: Implement Function\n",
    "    reshape = x_tensor #tf.reshape(x_tensor, [-1, num_outputs])\n",
    "    with tf.variable_scope('softmax'):\n",
    "        softmax_w = tf.Variable(tf.truncated_normal((x_tensor.get_shape().as_list()[1], num_outputs), mean=0, stddev=0.1))\n",
    "        softmax_b = tf.Variable(tf.zeros(num_outputs))\n",
    "    \n",
    "    # Since output is a bunch of rows of RNN cell outputs, logits will be a bunch\n",
    "    # of rows of logit outputs, one for each step and sequence\n",
    "    logits = tf.matmul(reshape, softmax_w) + softmax_b\n",
    "\n",
    "    return logits\n",
    "\n",
    "\"\"\"\n",
    "DON'T MODIFY ANYTHING IN THIS CELL THAT IS BELOW THIS LINE\n",
    "\"\"\"\n",
    "tests.test_output(output)"
   ]
  },
  {
   "cell_type": "markdown",
   "metadata": {},
   "source": [
    "### Create Convolutional Model\n",
    "Implement the function `conv_net` to create a convolutional neural network model. The function takes in a batch of images, `x`, and outputs logits.  Use the layers you created above to create this model:\n",
    "\n",
    "* Apply 1, 2, or 3 Convolution and Max Pool layers\n",
    "* Apply a Flatten Layer\n",
    "* Apply 1, 2, or 3 Fully Connected Layers\n",
    "* Apply an Output Layer\n",
    "* Return the output\n",
    "* Apply [TensorFlow's Dropout](https://www.tensorflow.org/api_docs/python/tf/nn/dropout) to one or more layers in the model using `keep_prob`. "
   ]
  },
  {
   "cell_type": "code",
   "execution_count": 87,
   "metadata": {
    "collapsed": false
   },
   "outputs": [
    {
     "name": "stdout",
     "output_type": "stream",
     "text": [
      "Neural Network Built!\n"
     ]
    }
   ],
   "source": [
    "def conv_net(x, keep_prob):\n",
    "    \"\"\"\n",
    "    Create a convolutional neural network model\n",
    "    : x: Placeholder tensor that holds image data.\n",
    "    : keep_prob: Placeholder tensor that hold dropout keep probability.\n",
    "    : return: Tensor that represents logits\n",
    "    \"\"\"\n",
    "    # TODO: Apply 1, 2, or 3 Convolution and Max Pool layers\n",
    "    #    Play around with different number of outputs, kernel size and stride\n",
    "    # Function Definition from Above:\n",
    "    #print(x.shape)\n",
    "    conv1 = conv2d_maxpool(x_tensor = x, conv_num_outputs = 8, conv_ksize = (5,5), conv_strides=(1,1), \n",
    "                   pool_ksize = (3,3), pool_strides = (2,2))\n",
    "    \n",
    "    #conv2 = conv2d_maxpool(x_tensor = conv1, conv_num_outputs = 32, conv_ksize = (5,5), conv_strides=(1,1), \n",
    "    #               pool_ksize = (3,3), pool_strides = (2,2))\n",
    "    \n",
    "    #conv3 = conv2d_maxpool(x_tensor = conv1, conv_num_outputs = 64, conv_ksize = (5,5), conv_strides=(1,1), \n",
    "    #               pool_ksize = (3,3), pool_strides = (2,2))\n",
    "    \n",
    "\n",
    "    conv = conv1\n",
    "    # TODO: Apply a Flatten Layer\n",
    "    # Function Definition from Above:\n",
    "    _X = flatten(conv)\n",
    "    \n",
    "\n",
    "    # TODO: Apply 1, 2, or 3 Fully Connected Layers\n",
    "    #    Play around with different number of outputs\n",
    "    # Function Definition from Above:\n",
    "    fconn = fully_conn(_X, num_outputs = 32)\n",
    "    \n",
    "    fconn = tf.nn.dropout(fconn, keep_prob)\n",
    "    \n",
    "    # TODO: Apply an Output Layer\n",
    "    #    Set this to the number of classes\n",
    "    # Function Definition from Above:\n",
    "    out = output(fconn, num_outputs = 10)\n",
    "    \n",
    "    # Use softmax to get the probabilities for predicted outputs\n",
    "    #out = tf.nn.softmax(out, name='predictions')\n",
    "    \n",
    "    # TODO: return output\n",
    "    return out\n",
    "\n",
    "\n",
    "\"\"\"\n",
    "DON'T MODIFY ANYTHING IN THIS CELL THAT IS BELOW THIS LINE\n",
    "\"\"\"\n",
    "\n",
    "##############################\n",
    "## Build the Neural Network ##\n",
    "##############################\n",
    "\n",
    "# Remove previous weights, bias, inputs, etc..\n",
    "tf.reset_default_graph()\n",
    "\n",
    "# Inputs\n",
    "x = neural_net_image_input((32, 32, 3))\n",
    "y = neural_net_label_input(10)\n",
    "keep_prob = neural_net_keep_prob_input()\n",
    "\n",
    "# Model\n",
    "logits = conv_net(x, keep_prob)\n",
    "\n",
    "# Name logits Tensor, so that is can be loaded from disk after training\n",
    "logits = tf.identity(logits, name='logits')\n",
    "\n",
    "# Loss and Optimizer\n",
    "cost = tf.reduce_mean(tf.nn.softmax_cross_entropy_with_logits(logits=logits, labels=y))\n",
    "optimizer = tf.train.AdamOptimizer().minimize(cost)\n",
    "\n",
    "# Accuracy\n",
    "correct_pred = tf.equal(tf.argmax(logits, 1), tf.argmax(y, 1))\n",
    "accuracy = tf.reduce_mean(tf.cast(correct_pred, tf.float32), name='accuracy')\n",
    "\n",
    "tests.test_conv_net(conv_net)"
   ]
  },
  {
   "cell_type": "markdown",
   "metadata": {},
   "source": [
    "## Train the Neural Network\n",
    "### Single Optimization\n",
    "Implement the function `train_neural_network` to do a single optimization.  The optimization should use `optimizer` to optimize in `session` with a `feed_dict` of the following:\n",
    "* `x` for image input\n",
    "* `y` for labels\n",
    "* `keep_prob` for keep probability for dropout\n",
    "\n",
    "This function will be called for each batch, so `tf.global_variables_initializer()` has already been called.\n",
    "\n",
    "Note: Nothing needs to be returned. This function is only optimizing the neural network."
   ]
  },
  {
   "cell_type": "code",
   "execution_count": 88,
   "metadata": {
    "collapsed": false
   },
   "outputs": [
    {
     "name": "stdout",
     "output_type": "stream",
     "text": [
      "Tests Passed\n"
     ]
    }
   ],
   "source": [
    "def train_neural_network(session, optimizer, keep_probability, feature_batch, label_batch):\n",
    "    \"\"\"\n",
    "    Optimize the session on a batch of images and labels\n",
    "    : session: Current TensorFlow session\n",
    "    : optimizer: TensorFlow optimizer function\n",
    "    : keep_probability: keep probability\n",
    "    : feature_batch: Batch of Numpy image data\n",
    "    : label_batch: Batch of Numpy label data\n",
    "    \"\"\"\n",
    "    # TODO: Implement Function\n",
    "    session.run(optimizer, feed_dict = {x: feature_batch, y: label_batch, keep_prob: keep_probability})\n",
    "\n",
    "\n",
    "\"\"\"\n",
    "DON'T MODIFY ANYTHING IN THIS CELL THAT IS BELOW THIS LINE\n",
    "\"\"\"\n",
    "tests.test_train_nn(train_neural_network)"
   ]
  },
  {
   "cell_type": "markdown",
   "metadata": {},
   "source": [
    "### Show Stats\n",
    "Implement the function `print_stats` to print loss and validation accuracy.  Use the global variables `valid_features` and `valid_labels` to calculate validation accuracy.  Use a keep probability of `1.0` to calculate the loss and validation accuracy."
   ]
  },
  {
   "cell_type": "code",
   "execution_count": 89,
   "metadata": {
    "collapsed": true
   },
   "outputs": [],
   "source": [
    "def print_stats(session, feature_batch, label_batch, cost, accuracy):\n",
    "    \"\"\"\n",
    "    Print information about loss and validation accuracy\n",
    "    : session: Current TensorFlow session\n",
    "    : feature_batch: Batch of Numpy image data\n",
    "    : label_batch: Batch of Numpy label data\n",
    "    : cost: TensorFlow cost function\n",
    "    : accuracy: TensorFlow accuracy function\n",
    "    \"\"\"\n",
    "    # TODO: Implement Function\n",
    "    #correct_pred = tf.equal(tf.argmax(pred,1), tf.argmax(label_batch,1))\n",
    "    #accuracy = tf.reduce_mean(tf.cast(correct_pred, tf.float32))\n",
    "\n",
    "    loss = session.run(cost, feed_dict={x: feature_batch, y: label_batch, keep_prob: 1.0})\n",
    "    validation_accuracy = session.run(accuracy, feed_dict={x: valid_features, y: valid_labels, keep_prob: 1.})\n",
    "    print('Loss: {:>8.4f} Validation Accuracy: {:.6f}'.format(loss, validation_accuracy))\n",
    "    #print (\"Loss = \" + \"{:.6f}\".format(cost) + \", Acurácia em Treino = \" + \"{:.5f}\".format(accuracy))\n",
    "    "
   ]
  },
  {
   "cell_type": "markdown",
   "metadata": {},
   "source": [
    "### Hyperparameters\n",
    "Tune the following parameters:\n",
    "* Set `epochs` to the number of iterations until the network stops learning or start overfitting\n",
    "* Set `batch_size` to the highest number that your machine has memory for.  Most people set them to common sizes of memory:\n",
    " * 64\n",
    " * 128\n",
    " * 256\n",
    " * ...\n",
    "* Set `keep_probability` to the probability of keeping a node using dropout"
   ]
  },
  {
   "cell_type": "code",
   "execution_count": 95,
   "metadata": {
    "collapsed": true
   },
   "outputs": [],
   "source": [
    "# TODO: Tune Parameters\n",
    "epochs = 45\n",
    "batch_size = 128\n",
    "keep_probability = 0.71"
   ]
  },
  {
   "cell_type": "markdown",
   "metadata": {},
   "source": [
    "### Train on a Single CIFAR-10 Batch\n",
    "Instead of training the neural network on all the CIFAR-10 batches of data, let's use a single batch. This should save time while you iterate on the model to get a better accuracy.  Once the final validation accuracy is 50% or greater, run the model on all the data in the next section."
   ]
  },
  {
   "cell_type": "code",
   "execution_count": 96,
   "metadata": {
    "collapsed": false
   },
   "outputs": [
    {
     "name": "stdout",
     "output_type": "stream",
     "text": [
      "Checking the Training on a Single Batch...\n",
      "Epoch  1, CIFAR-10 Batch 1:  Loss:   2.3076 Validation Accuracy: 0.125600\n",
      "Epoch  2, CIFAR-10 Batch 1:  Loss:   2.2260 Validation Accuracy: 0.192800\n",
      "Epoch  3, CIFAR-10 Batch 1:  Loss:   2.1691 Validation Accuracy: 0.224000\n",
      "Epoch  4, CIFAR-10 Batch 1:  Loss:   1.9966 Validation Accuracy: 0.254800\n",
      "Epoch  5, CIFAR-10 Batch 1:  Loss:   1.9050 Validation Accuracy: 0.317600\n",
      "Epoch  6, CIFAR-10 Batch 1:  Loss:   1.7759 Validation Accuracy: 0.347200\n",
      "Epoch  7, CIFAR-10 Batch 1:  Loss:   1.7154 Validation Accuracy: 0.360800\n",
      "Epoch  8, CIFAR-10 Batch 1:  Loss:   1.6724 Validation Accuracy: 0.379000\n",
      "Epoch  9, CIFAR-10 Batch 1:  Loss:   1.6437 Validation Accuracy: 0.382800\n",
      "Epoch 10, CIFAR-10 Batch 1:  Loss:   1.5704 Validation Accuracy: 0.406400\n",
      "Epoch 11, CIFAR-10 Batch 1:  Loss:   1.5468 Validation Accuracy: 0.415200\n",
      "Epoch 12, CIFAR-10 Batch 1:  Loss:   1.4667 Validation Accuracy: 0.427400\n",
      "Epoch 13, CIFAR-10 Batch 1:  Loss:   1.4307 Validation Accuracy: 0.433400\n",
      "Epoch 14, CIFAR-10 Batch 1:  Loss:   1.3913 Validation Accuracy: 0.432000\n",
      "Epoch 15, CIFAR-10 Batch 1:  Loss:   1.3764 Validation Accuracy: 0.437000\n",
      "Epoch 16, CIFAR-10 Batch 1:  Loss:   1.3636 Validation Accuracy: 0.440800\n",
      "Epoch 17, CIFAR-10 Batch 1:  Loss:   1.3716 Validation Accuracy: 0.441200\n",
      "Epoch 18, CIFAR-10 Batch 1:  Loss:   1.3107 Validation Accuracy: 0.440000\n",
      "Epoch 19, CIFAR-10 Batch 1:  Loss:   1.2922 Validation Accuracy: 0.448200\n",
      "Epoch 20, CIFAR-10 Batch 1:  Loss:   1.2525 Validation Accuracy: 0.445400\n",
      "Epoch 21, CIFAR-10 Batch 1:  Loss:   1.2461 Validation Accuracy: 0.449400\n",
      "Epoch 22, CIFAR-10 Batch 1:  Loss:   1.2540 Validation Accuracy: 0.440600\n",
      "Epoch 23, CIFAR-10 Batch 1:  Loss:   1.2020 Validation Accuracy: 0.455600\n",
      "Epoch 24, CIFAR-10 Batch 1:  Loss:   1.2019 Validation Accuracy: 0.452200\n",
      "Epoch 25, CIFAR-10 Batch 1:  Loss:   1.1607 Validation Accuracy: 0.450000\n",
      "Epoch 26, CIFAR-10 Batch 1:  Loss:   1.1159 Validation Accuracy: 0.444600\n",
      "Epoch 27, CIFAR-10 Batch 1:  Loss:   1.1118 Validation Accuracy: 0.458600\n",
      "Epoch 28, CIFAR-10 Batch 1:  Loss:   1.0614 Validation Accuracy: 0.459000\n",
      "Epoch 29, CIFAR-10 Batch 1:  Loss:   1.0680 Validation Accuracy: 0.465800\n",
      "Epoch 30, CIFAR-10 Batch 1:  Loss:   1.0269 Validation Accuracy: 0.462600\n",
      "Epoch 31, CIFAR-10 Batch 1:  Loss:   1.0100 Validation Accuracy: 0.463800\n",
      "Epoch 32, CIFAR-10 Batch 1:  Loss:   0.9736 Validation Accuracy: 0.464400\n",
      "Epoch 33, CIFAR-10 Batch 1:  Loss:   0.9994 Validation Accuracy: 0.473600\n",
      "Epoch 34, CIFAR-10 Batch 1:  Loss:   0.9704 Validation Accuracy: 0.469600\n",
      "Epoch 35, CIFAR-10 Batch 1:  Loss:   0.9377 Validation Accuracy: 0.468600\n",
      "Epoch 36, CIFAR-10 Batch 1:  Loss:   0.9160 Validation Accuracy: 0.472000\n",
      "Epoch 37, CIFAR-10 Batch 1:  Loss:   0.9047 Validation Accuracy: 0.467200\n",
      "Epoch 38, CIFAR-10 Batch 1:  Loss:   0.8851 Validation Accuracy: 0.474200\n",
      "Epoch 39, CIFAR-10 Batch 1:  Loss:   0.8991 Validation Accuracy: 0.464400\n",
      "Epoch 40, CIFAR-10 Batch 1:  Loss:   0.9067 Validation Accuracy: 0.467000\n",
      "Epoch 41, CIFAR-10 Batch 1:  Loss:   0.8640 Validation Accuracy: 0.474800\n",
      "Epoch 42, CIFAR-10 Batch 1:  Loss:   0.8632 Validation Accuracy: 0.470600\n",
      "Epoch 43, CIFAR-10 Batch 1:  Loss:   0.8635 Validation Accuracy: 0.483000\n",
      "Epoch 44, CIFAR-10 Batch 1:  Loss:   0.8388 Validation Accuracy: 0.469400\n",
      "Epoch 45, CIFAR-10 Batch 1:  Loss:   0.8083 Validation Accuracy: 0.471400\n"
     ]
    }
   ],
   "source": [
    "\"\"\"\n",
    "DON'T MODIFY ANYTHING IN THIS CELL\n",
    "\"\"\"\n",
    "print('Checking the Training on a Single Batch...')\n",
    "with tf.Session() as sess:\n",
    "    # Initializing the variables\n",
    "    sess.run(tf.global_variables_initializer())\n",
    "    \n",
    "    # Training cycle\n",
    "    for epoch in range(epochs):\n",
    "        batch_i = 1\n",
    "        for batch_features, batch_labels in helper.load_preprocess_training_batch(batch_i, batch_size):\n",
    "            train_neural_network(sess, optimizer, keep_probability, batch_features, batch_labels)\n",
    "        print('Epoch {:>2}, CIFAR-10 Batch {}:  '.format(epoch + 1, batch_i), end='')\n",
    "        print_stats(sess, batch_features, batch_labels, cost, accuracy)"
   ]
  },
  {
   "cell_type": "markdown",
   "metadata": {},
   "source": [
    "### Fully Train the Model\n",
    "Now that you got a good accuracy with a single CIFAR-10 batch, try it with all five batches."
   ]
  },
  {
   "cell_type": "code",
   "execution_count": 97,
   "metadata": {
    "collapsed": false
   },
   "outputs": [
    {
     "name": "stdout",
     "output_type": "stream",
     "text": [
      "Training...\n",
      "Epoch  1, CIFAR-10 Batch 1:  Loss:   2.3026 Validation Accuracy: 0.105600\n",
      "Epoch  1, CIFAR-10 Batch 2:  Loss:   2.3001 Validation Accuracy: 0.100000\n",
      "Epoch  1, CIFAR-10 Batch 3:  Loss:   2.3028 Validation Accuracy: 0.100600\n",
      "Epoch  1, CIFAR-10 Batch 4:  Loss:   2.2752 Validation Accuracy: 0.110800\n",
      "Epoch  1, CIFAR-10 Batch 5:  Loss:   2.3025 Validation Accuracy: 0.094200\n",
      "Epoch  2, CIFAR-10 Batch 1:  Loss:   2.3028 Validation Accuracy: 0.105600\n",
      "Epoch  2, CIFAR-10 Batch 2:  Loss:   2.2928 Validation Accuracy: 0.104800\n",
      "Epoch  2, CIFAR-10 Batch 3:  Loss:   2.2687 Validation Accuracy: 0.123400\n",
      "Epoch  2, CIFAR-10 Batch 4:  Loss:   2.1288 Validation Accuracy: 0.108800\n",
      "Epoch  2, CIFAR-10 Batch 5:  Loss:   2.1836 Validation Accuracy: 0.174000\n",
      "Epoch  3, CIFAR-10 Batch 1:  Loss:   2.2614 Validation Accuracy: 0.179000\n",
      "Epoch  3, CIFAR-10 Batch 2:  Loss:   2.1047 Validation Accuracy: 0.186800\n",
      "Epoch  3, CIFAR-10 Batch 3:  Loss:   2.0383 Validation Accuracy: 0.177600\n",
      "Epoch  3, CIFAR-10 Batch 4:  Loss:   2.0561 Validation Accuracy: 0.177200\n",
      "Epoch  3, CIFAR-10 Batch 5:  Loss:   2.0898 Validation Accuracy: 0.186800\n",
      "Epoch  4, CIFAR-10 Batch 1:  Loss:   2.1982 Validation Accuracy: 0.178200\n",
      "Epoch  4, CIFAR-10 Batch 2:  Loss:   2.0569 Validation Accuracy: 0.186200\n",
      "Epoch  4, CIFAR-10 Batch 3:  Loss:   1.9531 Validation Accuracy: 0.187200\n",
      "Epoch  4, CIFAR-10 Batch 4:  Loss:   2.0190 Validation Accuracy: 0.191200\n",
      "Epoch  4, CIFAR-10 Batch 5:  Loss:   2.0533 Validation Accuracy: 0.190800\n",
      "Epoch  5, CIFAR-10 Batch 1:  Loss:   2.1921 Validation Accuracy: 0.192000\n",
      "Epoch  5, CIFAR-10 Batch 2:  Loss:   2.0671 Validation Accuracy: 0.200800\n",
      "Epoch  5, CIFAR-10 Batch 3:  Loss:   1.9147 Validation Accuracy: 0.189400\n",
      "Epoch  5, CIFAR-10 Batch 4:  Loss:   1.9781 Validation Accuracy: 0.199200\n",
      "Epoch  5, CIFAR-10 Batch 5:  Loss:   2.0011 Validation Accuracy: 0.200600\n",
      "Epoch  6, CIFAR-10 Batch 1:  Loss:   2.2101 Validation Accuracy: 0.194200\n",
      "Epoch  6, CIFAR-10 Batch 2:  Loss:   2.0501 Validation Accuracy: 0.199800\n",
      "Epoch  6, CIFAR-10 Batch 3:  Loss:   1.8793 Validation Accuracy: 0.208800\n",
      "Epoch  6, CIFAR-10 Batch 4:  Loss:   1.9684 Validation Accuracy: 0.211400\n",
      "Epoch  6, CIFAR-10 Batch 5:  Loss:   1.9357 Validation Accuracy: 0.211200\n",
      "Epoch  7, CIFAR-10 Batch 1:  Loss:   2.1274 Validation Accuracy: 0.207200\n",
      "Epoch  7, CIFAR-10 Batch 2:  Loss:   2.0123 Validation Accuracy: 0.247400\n",
      "Epoch  7, CIFAR-10 Batch 3:  Loss:   1.7940 Validation Accuracy: 0.268200\n",
      "Epoch  7, CIFAR-10 Batch 4:  Loss:   1.7551 Validation Accuracy: 0.295800\n",
      "Epoch  7, CIFAR-10 Batch 5:  Loss:   1.7998 Validation Accuracy: 0.317800\n",
      "Epoch  8, CIFAR-10 Batch 1:  Loss:   2.0795 Validation Accuracy: 0.314600\n",
      "Epoch  8, CIFAR-10 Batch 2:  Loss:   1.9476 Validation Accuracy: 0.344400\n",
      "Epoch  8, CIFAR-10 Batch 3:  Loss:   1.6569 Validation Accuracy: 0.325000\n",
      "Epoch  8, CIFAR-10 Batch 4:  Loss:   1.7052 Validation Accuracy: 0.343400\n",
      "Epoch  8, CIFAR-10 Batch 5:  Loss:   1.7082 Validation Accuracy: 0.355000\n",
      "Epoch  9, CIFAR-10 Batch 1:  Loss:   1.9432 Validation Accuracy: 0.352200\n",
      "Epoch  9, CIFAR-10 Batch 2:  Loss:   1.8461 Validation Accuracy: 0.362400\n",
      "Epoch  9, CIFAR-10 Batch 3:  Loss:   1.5730 Validation Accuracy: 0.373800\n",
      "Epoch  9, CIFAR-10 Batch 4:  Loss:   1.6260 Validation Accuracy: 0.354600\n",
      "Epoch  9, CIFAR-10 Batch 5:  Loss:   1.6459 Validation Accuracy: 0.371200\n",
      "Epoch 10, CIFAR-10 Batch 1:  Loss:   1.8907 Validation Accuracy: 0.378200\n",
      "Epoch 10, CIFAR-10 Batch 2:  Loss:   1.7984 Validation Accuracy: 0.374600\n",
      "Epoch 10, CIFAR-10 Batch 3:  Loss:   1.5479 Validation Accuracy: 0.382000\n",
      "Epoch 10, CIFAR-10 Batch 4:  Loss:   1.5685 Validation Accuracy: 0.373200\n",
      "Epoch 10, CIFAR-10 Batch 5:  Loss:   1.6136 Validation Accuracy: 0.378600\n",
      "Epoch 11, CIFAR-10 Batch 1:  Loss:   1.8228 Validation Accuracy: 0.374400\n",
      "Epoch 11, CIFAR-10 Batch 2:  Loss:   1.8031 Validation Accuracy: 0.370600\n",
      "Epoch 11, CIFAR-10 Batch 3:  Loss:   1.5393 Validation Accuracy: 0.383400\n",
      "Epoch 11, CIFAR-10 Batch 4:  Loss:   1.5709 Validation Accuracy: 0.380200\n",
      "Epoch 11, CIFAR-10 Batch 5:  Loss:   1.5908 Validation Accuracy: 0.383400\n",
      "Epoch 12, CIFAR-10 Batch 1:  Loss:   1.7876 Validation Accuracy: 0.394600\n",
      "Epoch 12, CIFAR-10 Batch 2:  Loss:   1.7615 Validation Accuracy: 0.389600\n",
      "Epoch 12, CIFAR-10 Batch 3:  Loss:   1.5374 Validation Accuracy: 0.385600\n",
      "Epoch 12, CIFAR-10 Batch 4:  Loss:   1.5571 Validation Accuracy: 0.391000\n",
      "Epoch 12, CIFAR-10 Batch 5:  Loss:   1.5594 Validation Accuracy: 0.396600\n",
      "Epoch 13, CIFAR-10 Batch 1:  Loss:   1.7726 Validation Accuracy: 0.393200\n",
      "Epoch 13, CIFAR-10 Batch 2:  Loss:   1.7760 Validation Accuracy: 0.409000\n",
      "Epoch 13, CIFAR-10 Batch 3:  Loss:   1.5081 Validation Accuracy: 0.396600\n",
      "Epoch 13, CIFAR-10 Batch 4:  Loss:   1.5410 Validation Accuracy: 0.401400\n",
      "Epoch 13, CIFAR-10 Batch 5:  Loss:   1.5421 Validation Accuracy: 0.406400\n",
      "Epoch 14, CIFAR-10 Batch 1:  Loss:   1.7654 Validation Accuracy: 0.405600\n",
      "Epoch 14, CIFAR-10 Batch 2:  Loss:   1.7745 Validation Accuracy: 0.400200\n",
      "Epoch 14, CIFAR-10 Batch 3:  Loss:   1.4714 Validation Accuracy: 0.401200\n",
      "Epoch 14, CIFAR-10 Batch 4:  Loss:   1.5254 Validation Accuracy: 0.397600\n",
      "Epoch 14, CIFAR-10 Batch 5:  Loss:   1.5291 Validation Accuracy: 0.402000\n",
      "Epoch 15, CIFAR-10 Batch 1:  Loss:   1.7359 Validation Accuracy: 0.398400\n",
      "Epoch 15, CIFAR-10 Batch 2:  Loss:   1.7592 Validation Accuracy: 0.409800\n",
      "Epoch 15, CIFAR-10 Batch 3:  Loss:   1.5049 Validation Accuracy: 0.390400\n",
      "Epoch 15, CIFAR-10 Batch 4:  Loss:   1.5151 Validation Accuracy: 0.409800\n",
      "Epoch 15, CIFAR-10 Batch 5:  Loss:   1.5303 Validation Accuracy: 0.401600\n",
      "Epoch 16, CIFAR-10 Batch 1:  Loss:   1.6977 Validation Accuracy: 0.419200\n",
      "Epoch 16, CIFAR-10 Batch 2:  Loss:   1.7388 Validation Accuracy: 0.415200\n",
      "Epoch 16, CIFAR-10 Batch 3:  Loss:   1.4815 Validation Accuracy: 0.415200\n",
      "Epoch 16, CIFAR-10 Batch 4:  Loss:   1.4792 Validation Accuracy: 0.413400\n",
      "Epoch 16, CIFAR-10 Batch 5:  Loss:   1.4897 Validation Accuracy: 0.426200\n",
      "Epoch 17, CIFAR-10 Batch 1:  Loss:   1.7248 Validation Accuracy: 0.419600\n",
      "Epoch 17, CIFAR-10 Batch 2:  Loss:   1.6687 Validation Accuracy: 0.413000\n",
      "Epoch 17, CIFAR-10 Batch 3:  Loss:   1.4496 Validation Accuracy: 0.425800\n",
      "Epoch 17, CIFAR-10 Batch 4:  Loss:   1.4284 Validation Accuracy: 0.424000\n",
      "Epoch 17, CIFAR-10 Batch 5:  Loss:   1.4429 Validation Accuracy: 0.436000\n",
      "Epoch 18, CIFAR-10 Batch 1:  Loss:   1.6865 Validation Accuracy: 0.426800\n",
      "Epoch 18, CIFAR-10 Batch 2:  Loss:   1.6393 Validation Accuracy: 0.426600\n",
      "Epoch 18, CIFAR-10 Batch 3:  Loss:   1.4209 Validation Accuracy: 0.431600\n",
      "Epoch 18, CIFAR-10 Batch 4:  Loss:   1.4221 Validation Accuracy: 0.438600\n",
      "Epoch 18, CIFAR-10 Batch 5:  Loss:   1.4409 Validation Accuracy: 0.436800\n",
      "Epoch 19, CIFAR-10 Batch 1:  Loss:   1.5912 Validation Accuracy: 0.437000\n",
      "Epoch 19, CIFAR-10 Batch 2:  Loss:   1.6043 Validation Accuracy: 0.436800\n",
      "Epoch 19, CIFAR-10 Batch 3:  Loss:   1.4263 Validation Accuracy: 0.437200\n",
      "Epoch 19, CIFAR-10 Batch 4:  Loss:   1.3918 Validation Accuracy: 0.449200\n",
      "Epoch 19, CIFAR-10 Batch 5:  Loss:   1.3699 Validation Accuracy: 0.454800\n",
      "Epoch 20, CIFAR-10 Batch 1:  Loss:   1.5327 Validation Accuracy: 0.455000\n",
      "Epoch 20, CIFAR-10 Batch 2:  Loss:   1.5642 Validation Accuracy: 0.449600\n",
      "Epoch 20, CIFAR-10 Batch 3:  Loss:   1.3886 Validation Accuracy: 0.443400\n",
      "Epoch 20, CIFAR-10 Batch 4:  Loss:   1.3717 Validation Accuracy: 0.457800\n",
      "Epoch 20, CIFAR-10 Batch 5:  Loss:   1.3764 Validation Accuracy: 0.461400\n",
      "Epoch 21, CIFAR-10 Batch 1:  Loss:   1.4827 Validation Accuracy: 0.459000\n",
      "Epoch 21, CIFAR-10 Batch 2:  Loss:   1.5835 Validation Accuracy: 0.447400\n",
      "Epoch 21, CIFAR-10 Batch 3:  Loss:   1.3173 Validation Accuracy: 0.451800\n",
      "Epoch 21, CIFAR-10 Batch 4:  Loss:   1.3494 Validation Accuracy: 0.456800\n",
      "Epoch 21, CIFAR-10 Batch 5:  Loss:   1.3359 Validation Accuracy: 0.460800\n",
      "Epoch 22, CIFAR-10 Batch 1:  Loss:   1.4813 Validation Accuracy: 0.465200\n",
      "Epoch 22, CIFAR-10 Batch 2:  Loss:   1.5519 Validation Accuracy: 0.447400\n",
      "Epoch 22, CIFAR-10 Batch 3:  Loss:   1.3381 Validation Accuracy: 0.457200\n",
      "Epoch 22, CIFAR-10 Batch 4:  Loss:   1.3152 Validation Accuracy: 0.459000\n",
      "Epoch 22, CIFAR-10 Batch 5:  Loss:   1.3057 Validation Accuracy: 0.461800\n",
      "Epoch 23, CIFAR-10 Batch 1:  Loss:   1.4406 Validation Accuracy: 0.463200\n",
      "Epoch 23, CIFAR-10 Batch 2:  Loss:   1.5200 Validation Accuracy: 0.453200\n",
      "Epoch 23, CIFAR-10 Batch 3:  Loss:   1.3380 Validation Accuracy: 0.458000\n",
      "Epoch 23, CIFAR-10 Batch 4:  Loss:   1.2837 Validation Accuracy: 0.469000\n",
      "Epoch 23, CIFAR-10 Batch 5:  Loss:   1.2919 Validation Accuracy: 0.468400\n",
      "Epoch 24, CIFAR-10 Batch 1:  Loss:   1.4138 Validation Accuracy: 0.474800\n",
      "Epoch 24, CIFAR-10 Batch 2:  Loss:   1.5250 Validation Accuracy: 0.468200\n",
      "Epoch 24, CIFAR-10 Batch 3:  Loss:   1.3057 Validation Accuracy: 0.455400\n",
      "Epoch 24, CIFAR-10 Batch 4:  Loss:   1.2728 Validation Accuracy: 0.474600\n",
      "Epoch 24, CIFAR-10 Batch 5:  Loss:   1.3005 Validation Accuracy: 0.466600\n",
      "Epoch 25, CIFAR-10 Batch 1:  Loss:   1.4350 Validation Accuracy: 0.464800\n",
      "Epoch 25, CIFAR-10 Batch 2:  Loss:   1.5072 Validation Accuracy: 0.466400\n",
      "Epoch 25, CIFAR-10 Batch 3:  Loss:   1.3066 Validation Accuracy: 0.466600\n",
      "Epoch 25, CIFAR-10 Batch 4:  Loss:   1.2564 Validation Accuracy: 0.474000\n",
      "Epoch 25, CIFAR-10 Batch 5:  Loss:   1.2884 Validation Accuracy: 0.473200\n",
      "Epoch 26, CIFAR-10 Batch 1:  Loss:   1.3722 Validation Accuracy: 0.473400\n",
      "Epoch 26, CIFAR-10 Batch 2:  Loss:   1.5244 Validation Accuracy: 0.475800\n",
      "Epoch 26, CIFAR-10 Batch 3:  Loss:   1.2920 Validation Accuracy: 0.472800\n",
      "Epoch 26, CIFAR-10 Batch 4:  Loss:   1.2467 Validation Accuracy: 0.471800\n",
      "Epoch 26, CIFAR-10 Batch 5:  Loss:   1.2664 Validation Accuracy: 0.476400\n",
      "Epoch 27, CIFAR-10 Batch 1:  Loss:   1.3742 Validation Accuracy: 0.478600\n",
      "Epoch 27, CIFAR-10 Batch 2:  Loss:   1.5299 Validation Accuracy: 0.473000\n",
      "Epoch 27, CIFAR-10 Batch 3:  Loss:   1.3189 Validation Accuracy: 0.471600\n",
      "Epoch 27, CIFAR-10 Batch 4:  Loss:   1.2175 Validation Accuracy: 0.484200\n",
      "Epoch 27, CIFAR-10 Batch 5:  Loss:   1.2548 Validation Accuracy: 0.484000\n",
      "Epoch 28, CIFAR-10 Batch 1:  Loss:   1.3108 Validation Accuracy: 0.470200\n",
      "Epoch 28, CIFAR-10 Batch 2:  Loss:   1.5086 Validation Accuracy: 0.484000\n",
      "Epoch 28, CIFAR-10 Batch 3:  Loss:   1.3066 Validation Accuracy: 0.473000\n",
      "Epoch 28, CIFAR-10 Batch 4:  Loss:   1.2107 Validation Accuracy: 0.488200\n",
      "Epoch 28, CIFAR-10 Batch 5:  Loss:   1.2771 Validation Accuracy: 0.485800\n",
      "Epoch 29, CIFAR-10 Batch 1:  Loss:   1.3174 Validation Accuracy: 0.479600\n",
      "Epoch 29, CIFAR-10 Batch 2:  Loss:   1.4507 Validation Accuracy: 0.481000\n",
      "Epoch 29, CIFAR-10 Batch 3:  Loss:   1.2970 Validation Accuracy: 0.478400\n",
      "Epoch 29, CIFAR-10 Batch 4:  Loss:   1.1889 Validation Accuracy: 0.488600\n",
      "Epoch 29, CIFAR-10 Batch 5:  Loss:   1.2178 Validation Accuracy: 0.492400\n",
      "Epoch 30, CIFAR-10 Batch 1:  Loss:   1.3212 Validation Accuracy: 0.489800\n",
      "Epoch 30, CIFAR-10 Batch 2:  Loss:   1.4587 Validation Accuracy: 0.489000\n",
      "Epoch 30, CIFAR-10 Batch 3:  Loss:   1.2978 Validation Accuracy: 0.481800\n",
      "Epoch 30, CIFAR-10 Batch 4:  Loss:   1.1856 Validation Accuracy: 0.490800\n",
      "Epoch 30, CIFAR-10 Batch 5:  Loss:   1.2078 Validation Accuracy: 0.491800\n",
      "Epoch 31, CIFAR-10 Batch 1:  Loss:   1.2830 Validation Accuracy: 0.482800\n",
      "Epoch 31, CIFAR-10 Batch 2:  Loss:   1.4465 Validation Accuracy: 0.488200\n",
      "Epoch 31, CIFAR-10 Batch 3:  Loss:   1.2874 Validation Accuracy: 0.486200\n",
      "Epoch 31, CIFAR-10 Batch 4:  Loss:   1.1699 Validation Accuracy: 0.495600\n",
      "Epoch 31, CIFAR-10 Batch 5:  Loss:   1.2247 Validation Accuracy: 0.493600\n",
      "Epoch 32, CIFAR-10 Batch 1:  Loss:   1.2720 Validation Accuracy: 0.488600\n",
      "Epoch 32, CIFAR-10 Batch 2:  Loss:   1.4539 Validation Accuracy: 0.486000\n",
      "Epoch 32, CIFAR-10 Batch 3:  Loss:   1.2614 Validation Accuracy: 0.490600\n",
      "Epoch 32, CIFAR-10 Batch 4:  Loss:   1.1651 Validation Accuracy: 0.493200\n",
      "Epoch 32, CIFAR-10 Batch 5:  Loss:   1.2215 Validation Accuracy: 0.497200\n",
      "Epoch 33, CIFAR-10 Batch 1:  Loss:   1.3038 Validation Accuracy: 0.488600\n",
      "Epoch 33, CIFAR-10 Batch 2:  Loss:   1.3731 Validation Accuracy: 0.494200\n",
      "Epoch 33, CIFAR-10 Batch 3:  Loss:   1.2823 Validation Accuracy: 0.488400\n",
      "Epoch 33, CIFAR-10 Batch 4:  Loss:   1.1521 Validation Accuracy: 0.491400\n",
      "Epoch 33, CIFAR-10 Batch 5:  Loss:   1.2023 Validation Accuracy: 0.499400\n",
      "Epoch 34, CIFAR-10 Batch 1:  Loss:   1.2805 Validation Accuracy: 0.492600\n",
      "Epoch 34, CIFAR-10 Batch 2:  Loss:   1.4093 Validation Accuracy: 0.495800\n",
      "Epoch 34, CIFAR-10 Batch 3:  Loss:   1.2467 Validation Accuracy: 0.490000\n",
      "Epoch 34, CIFAR-10 Batch 4:  Loss:   1.1383 Validation Accuracy: 0.498000\n",
      "Epoch 34, CIFAR-10 Batch 5:  Loss:   1.1894 Validation Accuracy: 0.489400\n",
      "Epoch 35, CIFAR-10 Batch 1:  Loss:   1.2910 Validation Accuracy: 0.479800\n",
      "Epoch 35, CIFAR-10 Batch 2:  Loss:   1.3868 Validation Accuracy: 0.493000\n",
      "Epoch 35, CIFAR-10 Batch 3:  Loss:   1.2582 Validation Accuracy: 0.486200\n",
      "Epoch 35, CIFAR-10 Batch 4:  Loss:   1.1315 Validation Accuracy: 0.495000\n",
      "Epoch 35, CIFAR-10 Batch 5:  Loss:   1.1874 Validation Accuracy: 0.493800\n",
      "Epoch 36, CIFAR-10 Batch 1:  Loss:   1.2708 Validation Accuracy: 0.491400\n",
      "Epoch 36, CIFAR-10 Batch 2:  Loss:   1.4108 Validation Accuracy: 0.493800\n",
      "Epoch 36, CIFAR-10 Batch 3:  Loss:   1.2155 Validation Accuracy: 0.490200\n",
      "Epoch 36, CIFAR-10 Batch 4:  Loss:   1.1184 Validation Accuracy: 0.494000\n",
      "Epoch 36, CIFAR-10 Batch 5:  Loss:   1.1635 Validation Accuracy: 0.501000\n",
      "Epoch 37, CIFAR-10 Batch 1:  Loss:   1.2022 Validation Accuracy: 0.489400\n",
      "Epoch 37, CIFAR-10 Batch 2:  Loss:   1.3436 Validation Accuracy: 0.490000\n",
      "Epoch 37, CIFAR-10 Batch 3:  Loss:   1.2195 Validation Accuracy: 0.502400\n",
      "Epoch 37, CIFAR-10 Batch 4:  Loss:   1.1324 Validation Accuracy: 0.496600\n",
      "Epoch 37, CIFAR-10 Batch 5:  Loss:   1.1342 Validation Accuracy: 0.514000\n",
      "Epoch 38, CIFAR-10 Batch 1:  Loss:   1.2081 Validation Accuracy: 0.509000\n",
      "Epoch 38, CIFAR-10 Batch 2:  Loss:   1.3309 Validation Accuracy: 0.512600\n",
      "Epoch 38, CIFAR-10 Batch 3:  Loss:   1.2568 Validation Accuracy: 0.511200\n",
      "Epoch 38, CIFAR-10 Batch 4:  Loss:   1.1374 Validation Accuracy: 0.519400\n",
      "Epoch 38, CIFAR-10 Batch 5:  Loss:   1.1326 Validation Accuracy: 0.519000\n",
      "Epoch 39, CIFAR-10 Batch 1:  Loss:   1.1839 Validation Accuracy: 0.515800\n",
      "Epoch 39, CIFAR-10 Batch 2:  Loss:   1.2917 Validation Accuracy: 0.516800\n",
      "Epoch 39, CIFAR-10 Batch 3:  Loss:   1.2508 Validation Accuracy: 0.523400\n",
      "Epoch 39, CIFAR-10 Batch 4:  Loss:   1.0840 Validation Accuracy: 0.523200\n",
      "Epoch 39, CIFAR-10 Batch 5:  Loss:   1.0910 Validation Accuracy: 0.525000\n",
      "Epoch 40, CIFAR-10 Batch 1:  Loss:   1.1614 Validation Accuracy: 0.531600\n",
      "Epoch 40, CIFAR-10 Batch 2:  Loss:   1.3294 Validation Accuracy: 0.522000\n",
      "Epoch 40, CIFAR-10 Batch 3:  Loss:   1.2191 Validation Accuracy: 0.527000\n",
      "Epoch 40, CIFAR-10 Batch 4:  Loss:   1.0766 Validation Accuracy: 0.526400\n",
      "Epoch 40, CIFAR-10 Batch 5:  Loss:   1.1280 Validation Accuracy: 0.527000\n",
      "Epoch 41, CIFAR-10 Batch 1:  Loss:   1.1365 Validation Accuracy: 0.526000\n",
      "Epoch 41, CIFAR-10 Batch 2:  Loss:   1.2942 Validation Accuracy: 0.528600\n",
      "Epoch 41, CIFAR-10 Batch 3:  Loss:   1.1810 Validation Accuracy: 0.524800\n",
      "Epoch 41, CIFAR-10 Batch 4:  Loss:   1.0666 Validation Accuracy: 0.532200\n",
      "Epoch 41, CIFAR-10 Batch 5:  Loss:   1.0959 Validation Accuracy: 0.532800\n",
      "Epoch 42, CIFAR-10 Batch 1:  Loss:   1.1096 Validation Accuracy: 0.529800\n",
      "Epoch 42, CIFAR-10 Batch 2:  Loss:   1.2876 Validation Accuracy: 0.522600\n",
      "Epoch 42, CIFAR-10 Batch 3:  Loss:   1.2009 Validation Accuracy: 0.524000\n",
      "Epoch 42, CIFAR-10 Batch 4:  Loss:   1.0885 Validation Accuracy: 0.524600\n",
      "Epoch 42, CIFAR-10 Batch 5:  Loss:   1.0991 Validation Accuracy: 0.530400\n",
      "Epoch 43, CIFAR-10 Batch 1:  Loss:   1.1402 Validation Accuracy: 0.524200\n",
      "Epoch 43, CIFAR-10 Batch 2:  Loss:   1.2726 Validation Accuracy: 0.525000\n",
      "Epoch 43, CIFAR-10 Batch 3:  Loss:   1.1743 Validation Accuracy: 0.532600\n",
      "Epoch 43, CIFAR-10 Batch 4:  Loss:   1.1120 Validation Accuracy: 0.524800\n",
      "Epoch 43, CIFAR-10 Batch 5:  Loss:   1.1088 Validation Accuracy: 0.533000\n",
      "Epoch 44, CIFAR-10 Batch 1:  Loss:   1.1386 Validation Accuracy: 0.519800\n",
      "Epoch 44, CIFAR-10 Batch 2:  Loss:   1.2856 Validation Accuracy: 0.524600\n",
      "Epoch 44, CIFAR-10 Batch 3:  Loss:   1.1497 Validation Accuracy: 0.530200\n",
      "Epoch 44, CIFAR-10 Batch 4:  Loss:   1.0787 Validation Accuracy: 0.534200\n",
      "Epoch 44, CIFAR-10 Batch 5:  Loss:   1.0961 Validation Accuracy: 0.533800\n",
      "Epoch 45, CIFAR-10 Batch 1:  Loss:   1.1124 Validation Accuracy: 0.532000\n",
      "Epoch 45, CIFAR-10 Batch 2:  Loss:   1.2533 Validation Accuracy: 0.519800\n",
      "Epoch 45, CIFAR-10 Batch 3:  Loss:   1.1511 Validation Accuracy: 0.530000\n",
      "Epoch 45, CIFAR-10 Batch 4:  Loss:   1.0797 Validation Accuracy: 0.527800\n",
      "Epoch 45, CIFAR-10 Batch 5:  Loss:   1.0934 Validation Accuracy: 0.533400\n"
     ]
    }
   ],
   "source": [
    "\"\"\"\n",
    "DON'T MODIFY ANYTHING IN THIS CELL\n",
    "\"\"\"\n",
    "save_model_path = './image_classification'\n",
    "\n",
    "print('Training...')\n",
    "with tf.Session() as sess:\n",
    "    # Initializing the variables\n",
    "    sess.run(tf.global_variables_initializer())\n",
    "    \n",
    "    # Training cycle\n",
    "    for epoch in range(epochs):\n",
    "        # Loop over all batches\n",
    "        n_batches = 5\n",
    "        for batch_i in range(1, n_batches + 1):\n",
    "            for batch_features, batch_labels in helper.load_preprocess_training_batch(batch_i, batch_size):\n",
    "                train_neural_network(sess, optimizer, keep_probability, batch_features, batch_labels)\n",
    "            print('Epoch {:>2}, CIFAR-10 Batch {}:  '.format(epoch + 1, batch_i), end='')\n",
    "            print_stats(sess, batch_features, batch_labels, cost, accuracy)\n",
    "            \n",
    "    # Save Model\n",
    "    saver = tf.train.Saver()\n",
    "    save_path = saver.save(sess, save_model_path)"
   ]
  },
  {
   "cell_type": "markdown",
   "metadata": {},
   "source": [
    "# Checkpoint\n",
    "The model has been saved to disk.\n",
    "## Test Model\n",
    "Test your model against the test dataset.  This will be your final accuracy. You should have an accuracy greater than 50%. If you don't, keep tweaking the model architecture and parameters."
   ]
  },
  {
   "cell_type": "code",
   "execution_count": 98,
   "metadata": {
    "collapsed": false
   },
   "outputs": [
    {
     "name": "stdout",
     "output_type": "stream",
     "text": [
      "INFO:tensorflow:Restoring parameters from ./image_classification\n",
      "Testing Accuracy: 0.5357001582278481\n",
      "\n"
     ]
    },
    {
     "data": {
      "image/png": "[encoded data removed]",
      "text/plain": [
       "<matplotlib.figure.Figure at 0xd980efdef0>"
      ]
     },
     "metadata": {
      "image/png": {
       "height": 319,
       "width": 355
      }
     },
     "output_type": "display_data"
    }
   ],
   "source": [
    "\"\"\"\n",
    "DON'T MODIFY ANYTHING IN THIS CELL\n",
    "\"\"\"\n",
    "%matplotlib inline\n",
    "%config InlineBackend.figure_format = 'retina'\n",
    "\n",
    "import tensorflow as tf\n",
    "import pickle\n",
    "import helper\n",
    "import random\n",
    "\n",
    "# Set batch size if not already set\n",
    "try:\n",
    "    if batch_size:\n",
    "        pass\n",
    "except NameError:\n",
    "    batch_size = 64\n",
    "\n",
    "save_model_path = './image_classification'\n",
    "n_samples = 4\n",
    "top_n_predictions = 3\n",
    "\n",
    "def test_model():\n",
    "    \"\"\"\n",
    "    Test the saved model against the test dataset\n",
    "    \"\"\"\n",
    "\n",
    "    test_features, test_labels = pickle.load(open('preprocess_test.p', mode='rb'))\n",
    "    loaded_graph = tf.Graph()\n",
    "\n",
    "    with tf.Session(graph=loaded_graph) as sess:\n",
    "        # Load model\n",
    "        loader = tf.train.import_meta_graph(save_model_path + '.meta')\n",
    "        loader.restore(sess, save_model_path)\n",
    "\n",
    "        # Get Tensors from loaded model\n",
    "        loaded_x = loaded_graph.get_tensor_by_name('x:0')\n",
    "        loaded_y = loaded_graph.get_tensor_by_name('y:0')\n",
    "        loaded_keep_prob = loaded_graph.get_tensor_by_name('keep_prob:0')\n",
    "        loaded_logits = loaded_graph.get_tensor_by_name('logits:0')\n",
    "        loaded_acc = loaded_graph.get_tensor_by_name('accuracy:0')\n",
    "        \n",
    "        # Get accuracy in batches for memory limitations\n",
    "        test_batch_acc_total = 0\n",
    "        test_batch_count = 0\n",
    "        \n",
    "        for test_feature_batch, test_label_batch in helper.batch_features_labels(test_features, test_labels, batch_size):\n",
    "            test_batch_acc_total += sess.run(\n",
    "                loaded_acc,\n",
    "                feed_dict={loaded_x: test_feature_batch, loaded_y: test_label_batch, loaded_keep_prob: 1.0})\n",
    "            test_batch_count += 1\n",
    "\n",
    "        print('Testing Accuracy: {}\\n'.format(test_batch_acc_total/test_batch_count))\n",
    "\n",
    "        # Print Random Samples\n",
    "        random_test_features, random_test_labels = tuple(zip(*random.sample(list(zip(test_features, test_labels)), n_samples)))\n",
    "        random_test_predictions = sess.run(\n",
    "            tf.nn.top_k(tf.nn.softmax(loaded_logits), top_n_predictions),\n",
    "            feed_dict={loaded_x: random_test_features, loaded_y: random_test_labels, loaded_keep_prob: 1.0})\n",
    "        helper.display_image_predictions(random_test_features, random_test_labels, random_test_predictions)\n",
    "\n",
    "\n",
    "test_model()"
   ]
  },
  {
   "cell_type": "markdown",
   "metadata": {},
   "source": [
    "## Why 50-80% Accuracy?\n",
    "You might be wondering why you can't get an accuracy any higher. First things first, 50% isn't bad for a simple CNN.  Pure guessing would get you 10% accuracy. However, you might notice people are getting scores [well above 80%](http://rodrigob.github.io/are_we_there_yet/build/classification_datasets_results.html#43494641522d3130).  That's because we haven't taught you all there is to know about neural networks. We still need to cover a few more techniques.\n",
    "## Submitting This Project\n",
    "When submitting this project, make sure to run all the cells before saving the notebook.  Save the notebook file as \"dlnd_image_classification.ipynb\" and save it as a HTML file under \"File\" -> \"Download as\".  Include the \"helper.py\" and \"problem_unittests.py\" files in your submission."
   ]
  }
 ],
 "metadata": {
  "anaconda-cloud": {},
  "kernelspec": {
   "display_name": "Python [tensorflow]",
   "language": "python",
   "name": "Python [tensorflow]"
  },
  "language_info": {
   "codemirror_mode": {
    "name": "ipython",
    "version": 3
   },
   "file_extension": ".py",
   "mimetype": "text/x-python",
   "name": "python",
   "nbconvert_exporter": "python",
   "pygments_lexer": "ipython3",
   "version": "3.5.3"
  }
 },
 "nbformat": 4,
 "nbformat_minor": 1
}
